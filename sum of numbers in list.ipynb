{
 "cells": [
  {
   "cell_type": "markdown",
   "id": "56710689",
   "metadata": {},
   "source": [
    "# Print the sum of all numbers in the list"
   ]
  },
  {
   "cell_type": "code",
   "execution_count": null,
   "id": "35ec8568",
   "metadata": {},
   "outputs": [],
   "source": []
  },
  {
   "cell_type": "code",
   "execution_count": 9,
   "id": "51e76d0d",
   "metadata": {},
   "outputs": [
    {
     "name": "stdout",
     "output_type": "stream",
     "text": [
      "The sum of all the elements inside the list is:  49\n"
     ]
    }
   ],
   "source": [
    "def addition(list,length,total):\n",
    "    for ch in list:\n",
    "        total = total + list[length-1]\n",
    "        length = length-1\n",
    "    return total\n",
    "a =[10,-1,-1,2,5,20,14]\n",
    "b = len(a)\n",
    "c = 0\n",
    "total_sum = addition(a,b,c)\n",
    "print(\"The sum of all the elements inside the list is: \", total_sum)"
   ]
  },
  {
   "cell_type": "code",
   "execution_count": null,
   "id": "144e653c",
   "metadata": {},
   "outputs": [],
   "source": []
  },
  {
   "cell_type": "code",
   "execution_count": null,
   "id": "7d504e1d",
   "metadata": {},
   "outputs": [],
   "source": []
  },
  {
   "cell_type": "code",
   "execution_count": null,
   "id": "99e37e56",
   "metadata": {},
   "outputs": [],
   "source": []
  },
  {
   "cell_type": "code",
   "execution_count": null,
   "id": "731cece7",
   "metadata": {},
   "outputs": [],
   "source": []
  },
  {
   "cell_type": "code",
   "execution_count": 4,
   "id": "5384e6d3",
   "metadata": {},
   "outputs": [
    {
     "name": "stdout",
     "output_type": "stream",
     "text": [
      "10\n"
     ]
    }
   ],
   "source": [
    "list =[10,-1,-1,2]\n",
    "length = len(list)\n",
    "total = 0\n",
    "for ch in list:    \n",
    "    total = total + list[length-1]\n",
    "    length = length-1 \n",
    "print(total)"
   ]
  },
  {
   "cell_type": "code",
   "execution_count": null,
   "id": "9fba3ba4",
   "metadata": {},
   "outputs": [],
   "source": []
  },
  {
   "cell_type": "code",
   "execution_count": null,
   "id": "5983ece6",
   "metadata": {},
   "outputs": [],
   "source": []
  }
 ],
 "metadata": {
  "kernelspec": {
   "display_name": "Python 3 (ipykernel)",
   "language": "python",
   "name": "python3"
  },
  "language_info": {
   "codemirror_mode": {
    "name": "ipython",
    "version": 3
   },
   "file_extension": ".py",
   "mimetype": "text/x-python",
   "name": "python",
   "nbconvert_exporter": "python",
   "pygments_lexer": "ipython3",
   "version": "3.10.0"
  }
 },
 "nbformat": 4,
 "nbformat_minor": 5
}
